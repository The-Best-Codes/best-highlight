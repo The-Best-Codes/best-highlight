{
 "cells": [
  {
   "cell_type": "markdown",
   "metadata": {},
   "source": [
    "# Best-Highlight Tutorial\n",
    "\n",
    "This notebook demonstrates how to use the `best-highlight` library for syntax highlighting in various contexts. The library provides a lightweight solution for code highlighting with zero runtime dependencies.\n",
    "\n",
    "## Installation\n",
    "\n",
    "First, install the library using npm:\n",
    "```bash\n",
    "npm install best-highlight\n",
    "```"
   ]
  },
  {
   "cell_type": "markdown",
   "metadata": {},
   "source": [
    "## Basic Usage\n",
    "\n",
    "Let's start by importing the library and highlighting some simple code snippets. The library provides three main functions:\n",
    "- `tokenize`: Converts code into tokens\n",
    "- `highlight`: Converts code into HTML with syntax highlighting\n",
    "- `highlightElement`: Applies highlighting to a DOM element\n",
    "\n",
    "### How the Library Works\n",
    "\n",
    "1. **Tokenization**: The library uses RegExp patterns to break down code into tokens\n",
    "2. **Token Types**: Each token is classified (keyword, string, comment, etc.)\n",
    "3. **HTML Generation**: Tokens are wrapped in spans with appropriate classes\n",
    "4. **Styling**: CSS classes provide the actual colors and formatting"
   ]
  },
  {
   "cell_type": "code",
   "execution_count": null,
   "metadata": {},
   "outputs": [],
   "source": [
    "const { highlight, tokenize } = require('best-highlight');\n",
    "\n",
    "// Example JavaScript code\n",
    "const code = `function greet(name) {\n",
    "    // Say hello\n",
    "    console.log(\"Hello, \" + name + \"!\");\n",
    "}`;\n",
    "\n",
    "// Get tokens\n",
    "const tokens = tokenize(code, 'javascript');\n",
    "console.log('Tokens:', tokens);\n",
    "\n",
    "// Get highlighted HTML\n",
    "const html = highlight(code, 'javascript');\n",
    "console.log('HTML:', html);"
   ]
  },
  {
   "cell_type": "markdown",
   "metadata": {},
   "source": [
    "## Token Types\n",
    "\n",
    "The library recognizes different token types for each language. Here's what they look like:\n",
    "\n",
    "### JavaScript/TypeScript\n",
    "- Keywords (function, const, let)\n",
    "- Strings (\"Hello, World!\")\n",
    "- Numbers (42, 3.14)\n",
    "- Comments (// single line, /* multi line */)\n",
    "- Operators (+, -, *, /)\n",
    "- Identifiers (variable names, function names)\n",
    "\n",
    "### HTML\n",
    "- Tags (div, span, etc.)\n",
    "- Attributes (class, id)\n",
    "- Strings (\"container\")\n",
    "- Comments\n",
    "- Doctypes\n",
    "- Entities"
   ]
  },
  {
   "cell_type": "code",
   "execution_count": null,
   "metadata": {},
   "outputs": [],
   "source": [
    "// Example: HTML Tokenization\n",
    "const htmlCode = `<div class=\"container\">\n",
    "    <!-- Navigation -->\n",
    "    <nav id=\"main-nav\">\n",
    "        <a href=\"#\">Home</a>\n",
    "    </nav>\n",
    "</div>`;\n",
    "\n",
    "const htmlTokens = tokenize(htmlCode, 'html');\n",
    "console.log('HTML Tokens:', htmlTokens);"
   ]
  },
  {
   "cell_type": "markdown",
   "metadata": {},
   "source": [
    "## Themes\n",
    "\n",
    "The library includes four built-in themes:\n",
    "1. Light (default)\n",
    "2. Dark\n",
    "3. Nord\n",
    "4. GitHub\n",
    "\n",
    "Each theme defines colors for different token types. Here's the structure of theme CSS:"
   ]
  },
  {
   "cell_type": "code",
   "execution_count": null,
   "metadata": {},
   "outputs": [],
   "source": [
    "// Theme CSS Structure Example (Dark Theme)\n",
    "const darkThemeExample = `\n",
    ".bh-npm-token.bh-npm-keyword { color: #c586c0; }     /* Keywords */\n",
    ".bh-npm-token.bh-npm-string { color: #ce9178; }      /* Strings */\n",
    ".bh-npm-token.bh-npm-number { color: #b5cea8; }      /* Numbers */\n",
    ".bh-npm-token.bh-npm-comment { color: #6a9955; }     /* Comments */\n",
    ".bh-npm-token.bh-npm-operator { color: #569cd6; }    /* Operators */\n",
    ".bh-npm-token.bh-npm-identifier { color: #9cdcfe; }  /* Identifiers */\n",
    "`;\n",
    "\n",
    "console.log(darkThemeExample);"
   ]
  },
  {
   "cell_type": "markdown",
   "metadata": {},
   "source": [
    "## Advanced Usage\n",
    "\n",
    "### Custom Processing\n",
    "You can use the `tokenize` function to create custom highlighting logic:"
   ]
  },
  {
   "cell_type": "code",
   "execution_count": null,
   "metadata": {},
   "outputs": [],
   "source": [
    "function customHighlight(code, language) {\n",
    "    const tokens = tokenize(code, language);\n",
    "    \n",
    "    // Custom processing: Add line numbers\n",
    "    let lineNumber = 1;\n",
    "    let html = '';\n",
    "    \n",
    "    tokens.forEach(token => {\n",
    "        if (token.content.includes('\\n')) {\n",
    "            const lines = token.content.split('\\n');\n",
    "            lines.forEach((line, index) => {\n",
    "                if (index > 0) {\n",
    "                    html += `\\n<span class=\"line-number\">${lineNumber++}</span>`;\n",
    "                }\n",
    "                html += `<span class=\"bh-npm-token bh-npm-${token.type}\">${line}</span>`;\n",
    "            });\n",
    "        } else {\n",
    "            html += `<span class=\"bh-npm-token bh-npm-${token.type}\">${token.content}</span>`;\n",
    "        }\n",
    "    });\n",
    "    \n",
    "    return html;\n",
    "}\n",
    "\n",
    "// Example usage\n",
    "const pythonCode = `def factorial(n):\n",
    "    # Calculate factorial\n",
    "    if n <= 1:\n",
    "        return 1\n",
    "    return n * factorial(n-1)`;\n",
    "\n",
    "console.log(customHighlight(pythonCode, 'python'));"
   ]
  },
  {
   "cell_type": "markdown",
   "metadata": {},
   "source": [
    "## Browser Usage\n",
    "\n",
    "To use the library in a browser environment:"
   ]
  },
  {
   "cell_type": "code",
   "execution_count": null,
   "metadata": {},
   "outputs": [],
   "source": [
    "// HTML Structure\n",
    "const htmlExample = `\n",
    "<!DOCTYPE html>\n",
    "<html>\n",
    "<head>\n",
    "    <link rel=\"stylesheet\" href=\"node_modules/best-highlight/themes/dark.css\">\n",
    "    <script src=\"node_modules/best-highlight/dist/index.js\"></script>\n",
    "</head>\n",
    "<body>\n",
    "    <pre data-language=\"javascript\">\n",
    "        function example() {\n",
    "            return \"Hello, World!\";\n",
    "        }\n",
    "    </pre>\n",
    "    \n",
    "    <script>\n",
    "        // Highlight all pre elements\n",
    "        document.querySelectorAll('pre').forEach(element => {\n",
    "            highlightElement(element);\n",
    "        });\n",
    "    </script>\n",
    "</body>\n",
    "</html>\n",
    "`;\n",
    "\n",
    "console.log(htmlExample);"
   ]
  },
  {
   "cell_type": "markdown",
   "metadata": {},
   "source": [
    "## Testing Examples\n",
    "\n",
    "Here are some examples of how to test the library:"
   ]
  },
  {
   "cell_type": "code",
   "execution_count": null,
   "metadata": {},
   "outputs": [],
   "source": [
    "// Test function\n",
    "function runTests() {\n",
    "    // Test 1: JavaScript Tokenization\n",
    "    const jsCode = 'const x = 42; // comment';\n",
    "    const jsTokens = tokenize(jsCode, 'javascript');\n",
    "    console.assert(jsTokens.length === 10, 'JavaScript tokenization failed');\n",
    "    \n",
    "    // Test 2: HTML Generation\n",
    "    const htmlResult = highlight(jsCode, 'javascript');\n",
    "    console.assert(htmlResult.includes('bh-npm-token'), 'HTML generation failed');\n",
    "    \n",
    "    // Test 3: Python Tokenization\n",
    "    const pyCode = 'def hello(): # function';\n",
    "    const pyTokens = tokenize(pyCode, 'python');\n",
    "    console.assert(pyTokens.length === 8, 'Python tokenization failed');\n",
    "    \n",
    "    console.log('All tests passed!');\n",
    "}\n",
    "\n",
    "runTests();"
   ]
  },
  {
   "cell_type": "markdown",
   "metadata": {},
   "source": [
    "## Common Use Cases\n",
    "\n",
    "1. **Code Documentation**: Highlight code examples in documentation\n",
    "2. **Code Editors**: Provide syntax highlighting in web-based editors\n",
    "3. **Blog Posts**: Enhance code snippets in technical blog posts\n",
    "4. **Educational Platforms**: Highlight code in programming tutorials\n",
    "\n",
    "## Performance Tips\n",
    "\n",
    "1. Cache tokenization results for frequently used code snippets\n",
    "2. Use `highlightElement` only when the content changes\n",
    "3. Consider using a debounce function for real-time highlighting\n",
    "4. Load theme CSS files asynchronously\n",
    "\n",
    "## Contributing\n",
    "\n",
    "The library is open for contributions! Areas for improvement:\n",
    "1. Adding support for more languages\n",
    "2. Creating additional themes\n",
    "3. Improving tokenization patterns\n",
    "4. Adding new features like line numbers or code folding"
   ]
  }
 ],
 "metadata": {
  "kernelspec": {
   "display_name": "JavaScript (Node.js)",
   "language": "javascript",
   "name": "javascript"
  },
  "language_info": {
   "name": "javascript",
   "version": "16.13.2"
  }
 },
 "nbformat": 4,
 "nbformat_minor": 4
}
